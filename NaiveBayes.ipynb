{
 "cells": [
  {
   "cell_type": "markdown",
   "id": "00f50eff",
   "metadata": {},
   "source": [
    "## Naive Baye's ML Algorithm"
   ]
  },
  {
   "cell_type": "markdown",
   "id": "fbedccd8",
   "metadata": {},
   "source": [
    "Naive Bayes and its variants can be applied to classification problems where feature independence is assumed. Bernoulli works best for binary or boolean features, Multinomial for count-based data like text, and Gaussian for continuous data that follows a normal distribution.\n",
    "\n",
    "Since the Iris dataset has continuous features like sepal and petal measurements, I'll use GaussianNB, which is specifically designed for continuous data under the assumption of normal distribution."
   ]
  },
  {
   "cell_type": "code",
   "execution_count": 1,
   "id": "881c1930",
   "metadata": {},
   "outputs": [],
   "source": [
    "import pandas as pd\n",
    "import numpy as np\n",
    "import matplotlib.pyplot as plt\n",
    "import seaborn as sns\n",
    "%matplotlib inline"
   ]
  },
  {
   "cell_type": "code",
   "execution_count": 2,
   "id": "7a3ac9f2",
   "metadata": {},
   "outputs": [],
   "source": [
    "from sklearn.datasets import load_iris\n",
    "from sklearn.model_selection import train_test_split"
   ]
  },
  {
   "cell_type": "code",
   "execution_count": 3,
   "id": "5aad7df4",
   "metadata": {},
   "outputs": [],
   "source": [
    "X,y = load_iris(return_X_y=True)"
   ]
  },
  {
   "cell_type": "code",
   "execution_count": 5,
   "id": "9b76b5b5",
   "metadata": {},
   "outputs": [
    {
     "data": {
      "text/plain": [
       "array([0, 0, 0, 0, 0, 0, 0, 0, 0, 0, 0, 0, 0, 0, 0, 0, 0, 0, 0, 0, 0, 0,\n",
       "       0, 0, 0, 0, 0, 0, 0, 0, 0, 0, 0, 0, 0, 0, 0, 0, 0, 0, 0, 0, 0, 0,\n",
       "       0, 0, 0, 0, 0, 0, 1, 1, 1, 1, 1, 1, 1, 1, 1, 1, 1, 1, 1, 1, 1, 1,\n",
       "       1, 1, 1, 1, 1, 1, 1, 1, 1, 1, 1, 1, 1, 1, 1, 1, 1, 1, 1, 1, 1, 1,\n",
       "       1, 1, 1, 1, 1, 1, 1, 1, 1, 1, 1, 1, 2, 2, 2, 2, 2, 2, 2, 2, 2, 2,\n",
       "       2, 2, 2, 2, 2, 2, 2, 2, 2, 2, 2, 2, 2, 2, 2, 2, 2, 2, 2, 2, 2, 2,\n",
       "       2, 2, 2, 2, 2, 2, 2, 2, 2, 2, 2, 2, 2, 2, 2, 2, 2, 2])"
      ]
     },
     "execution_count": 5,
     "metadata": {},
     "output_type": "execute_result"
    }
   ],
   "source": [
    "y"
   ]
  },
  {
   "cell_type": "code",
   "execution_count": 6,
   "id": "e64bd944",
   "metadata": {},
   "outputs": [],
   "source": [
    "## train test split\n",
    "X_train, X_test, y_train, y_test = train_test_split(X,y,test_size=0.3,random_state=0)"
   ]
  },
  {
   "cell_type": "code",
   "execution_count": 7,
   "id": "fd2e31dc",
   "metadata": {},
   "outputs": [],
   "source": [
    "from sklearn.naive_bayes import GaussianNB"
   ]
  },
  {
   "cell_type": "code",
   "execution_count": 8,
   "id": "66f11fdb",
   "metadata": {},
   "outputs": [],
   "source": [
    "gnb = GaussianNB()"
   ]
  },
  {
   "cell_type": "code",
   "execution_count": 9,
   "id": "0dd48b59",
   "metadata": {},
   "outputs": [
    {
     "data": {
      "text/html": [
       "<style>#sk-container-id-1 {color: black;}#sk-container-id-1 pre{padding: 0;}#sk-container-id-1 div.sk-toggleable {background-color: white;}#sk-container-id-1 label.sk-toggleable__label {cursor: pointer;display: block;width: 100%;margin-bottom: 0;padding: 0.3em;box-sizing: border-box;text-align: center;}#sk-container-id-1 label.sk-toggleable__label-arrow:before {content: \"▸\";float: left;margin-right: 0.25em;color: #696969;}#sk-container-id-1 label.sk-toggleable__label-arrow:hover:before {color: black;}#sk-container-id-1 div.sk-estimator:hover label.sk-toggleable__label-arrow:before {color: black;}#sk-container-id-1 div.sk-toggleable__content {max-height: 0;max-width: 0;overflow: hidden;text-align: left;background-color: #f0f8ff;}#sk-container-id-1 div.sk-toggleable__content pre {margin: 0.2em;color: black;border-radius: 0.25em;background-color: #f0f8ff;}#sk-container-id-1 input.sk-toggleable__control:checked~div.sk-toggleable__content {max-height: 200px;max-width: 100%;overflow: auto;}#sk-container-id-1 input.sk-toggleable__control:checked~label.sk-toggleable__label-arrow:before {content: \"▾\";}#sk-container-id-1 div.sk-estimator input.sk-toggleable__control:checked~label.sk-toggleable__label {background-color: #d4ebff;}#sk-container-id-1 div.sk-label input.sk-toggleable__control:checked~label.sk-toggleable__label {background-color: #d4ebff;}#sk-container-id-1 input.sk-hidden--visually {border: 0;clip: rect(1px 1px 1px 1px);clip: rect(1px, 1px, 1px, 1px);height: 1px;margin: -1px;overflow: hidden;padding: 0;position: absolute;width: 1px;}#sk-container-id-1 div.sk-estimator {font-family: monospace;background-color: #f0f8ff;border: 1px dotted black;border-radius: 0.25em;box-sizing: border-box;margin-bottom: 0.5em;}#sk-container-id-1 div.sk-estimator:hover {background-color: #d4ebff;}#sk-container-id-1 div.sk-parallel-item::after {content: \"\";width: 100%;border-bottom: 1px solid gray;flex-grow: 1;}#sk-container-id-1 div.sk-label:hover label.sk-toggleable__label {background-color: #d4ebff;}#sk-container-id-1 div.sk-serial::before {content: \"\";position: absolute;border-left: 1px solid gray;box-sizing: border-box;top: 0;bottom: 0;left: 50%;z-index: 0;}#sk-container-id-1 div.sk-serial {display: flex;flex-direction: column;align-items: center;background-color: white;padding-right: 0.2em;padding-left: 0.2em;position: relative;}#sk-container-id-1 div.sk-item {position: relative;z-index: 1;}#sk-container-id-1 div.sk-parallel {display: flex;align-items: stretch;justify-content: center;background-color: white;position: relative;}#sk-container-id-1 div.sk-item::before, #sk-container-id-1 div.sk-parallel-item::before {content: \"\";position: absolute;border-left: 1px solid gray;box-sizing: border-box;top: 0;bottom: 0;left: 50%;z-index: -1;}#sk-container-id-1 div.sk-parallel-item {display: flex;flex-direction: column;z-index: 1;position: relative;background-color: white;}#sk-container-id-1 div.sk-parallel-item:first-child::after {align-self: flex-end;width: 50%;}#sk-container-id-1 div.sk-parallel-item:last-child::after {align-self: flex-start;width: 50%;}#sk-container-id-1 div.sk-parallel-item:only-child::after {width: 0;}#sk-container-id-1 div.sk-dashed-wrapped {border: 1px dashed gray;margin: 0 0.4em 0.5em 0.4em;box-sizing: border-box;padding-bottom: 0.4em;background-color: white;}#sk-container-id-1 div.sk-label label {font-family: monospace;font-weight: bold;display: inline-block;line-height: 1.2em;}#sk-container-id-1 div.sk-label-container {text-align: center;}#sk-container-id-1 div.sk-container {/* jupyter's `normalize.less` sets `[hidden] { display: none; }` but bootstrap.min.css set `[hidden] { display: none !important; }` so we also need the `!important` here to be able to override the default hidden behavior on the sphinx rendered scikit-learn.org. See: https://github.com/scikit-learn/scikit-learn/issues/21755 */display: inline-block !important;position: relative;}#sk-container-id-1 div.sk-text-repr-fallback {display: none;}</style><div id=\"sk-container-id-1\" class=\"sk-top-container\"><div class=\"sk-text-repr-fallback\"><pre>GaussianNB()</pre><b>In a Jupyter environment, please rerun this cell to show the HTML representation or trust the notebook. <br />On GitHub, the HTML representation is unable to render, please try loading this page with nbviewer.org.</b></div><div class=\"sk-container\" hidden><div class=\"sk-item\"><div class=\"sk-estimator sk-toggleable\"><input class=\"sk-toggleable__control sk-hidden--visually\" id=\"sk-estimator-id-1\" type=\"checkbox\" checked><label for=\"sk-estimator-id-1\" class=\"sk-toggleable__label sk-toggleable__label-arrow\">GaussianNB</label><div class=\"sk-toggleable__content\"><pre>GaussianNB()</pre></div></div></div></div></div>"
      ],
      "text/plain": [
       "GaussianNB()"
      ]
     },
     "execution_count": 9,
     "metadata": {},
     "output_type": "execute_result"
    }
   ],
   "source": [
    "gnb.fit(X_train,y_train)"
   ]
  },
  {
   "cell_type": "code",
   "execution_count": 10,
   "id": "d9377b4b",
   "metadata": {},
   "outputs": [],
   "source": [
    "from sklearn.metrics import accuracy_score, classification_report, confusion_matrix, ConfusionMatrixDisplay"
   ]
  },
  {
   "cell_type": "code",
   "execution_count": 11,
   "id": "01d3eb67",
   "metadata": {},
   "outputs": [],
   "source": [
    "y_pred = gnb.predict(X_test)"
   ]
  },
  {
   "cell_type": "code",
   "execution_count": 12,
   "id": "d57f55a8",
   "metadata": {},
   "outputs": [
    {
     "name": "stdout",
     "output_type": "stream",
     "text": [
      "Accuracy:  1.0\n",
      "----------------------------------------------------------------------------\n",
      "              precision    recall  f1-score   support\n",
      "\n",
      "           0       1.00      1.00      1.00        16\n",
      "           1       1.00      1.00      1.00        18\n",
      "           2       1.00      1.00      1.00        11\n",
      "\n",
      "    accuracy                           1.00        45\n",
      "   macro avg       1.00      1.00      1.00        45\n",
      "weighted avg       1.00      1.00      1.00        45\n",
      "\n",
      "----------------------------------------------------------------------------\n"
     ]
    },
    {
     "data": {
      "image/png": "[encoded data removed]",
      "text/plain": [
       "<Figure size 640x480 with 2 Axes>"
      ]
     },
     "metadata": {},
     "output_type": "display_data"
    }
   ],
   "source": [
    "score = accuracy_score(y_test, y_pred)\n",
    "print(\"Accuracy: \",score)\n",
    "print(\"----------------------------------------------------------------------------\")\n",
    "print(classification_report(y_test,y_pred))\n",
    "print(\"----------------------------------------------------------------------------\")\n",
    "cm = confusion_matrix(y_test,y_pred, labels=gnb.classes_)\n",
    "disp = ConfusionMatrixDisplay(confusion_matrix=cm, display_labels=gnb.classes_)\n",
    "disp.plot(values_format='')\n",
    "plt.show()"
   ]
  },
  {
   "cell_type": "markdown",
   "id": "2f55cc50",
   "metadata": {},
   "source": [
    "### For tips dataset"
   ]
  },
  {
   "cell_type": "markdown",
   "id": "c103f4e0",
   "metadata": {},
   "source": [
    "Considering the time as the output variable"
   ]
  },
  {
   "cell_type": "code",
   "execution_count": 13,
   "id": "36da88d8",
   "metadata": {},
   "outputs": [],
   "source": [
    "df = sns.load_dataset('tips')"
   ]
  },
  {
   "cell_type": "code",
   "execution_count": 23,
   "id": "4d032b1e",
   "metadata": {
    "scrolled": true
   },
   "outputs": [
    {
     "data": {
      "text/html": [
       "<div>\n",
       "<style scoped>\n",
       "    .dataframe tbody tr th:only-of-type {\n",
       "        vertical-align: middle;\n",
       "    }\n",
       "\n",
       "    .dataframe tbody tr th {\n",
       "        vertical-align: top;\n",
       "    }\n",
       "\n",
       "    .dataframe thead th {\n",
       "        text-align: right;\n",
       "    }\n",
       "</style>\n",
       "<table border=\"1\" class=\"dataframe\">\n",
       "  <thead>\n",
       "    <tr style=\"text-align: right;\">\n",
       "      <th></th>\n",
       "      <th>total_bill</th>\n",
       "      <th>tip</th>\n",
       "      <th>sex</th>\n",
       "      <th>smoker</th>\n",
       "      <th>day</th>\n",
       "      <th>time</th>\n",
       "      <th>size</th>\n",
       "    </tr>\n",
       "  </thead>\n",
       "  <tbody>\n",
       "    <tr>\n",
       "      <th>0</th>\n",
       "      <td>16.99</td>\n",
       "      <td>1.01</td>\n",
       "      <td>Female</td>\n",
       "      <td>No</td>\n",
       "      <td>Sun</td>\n",
       "      <td>Dinner</td>\n",
       "      <td>2</td>\n",
       "    </tr>\n",
       "    <tr>\n",
       "      <th>1</th>\n",
       "      <td>10.34</td>\n",
       "      <td>1.66</td>\n",
       "      <td>Male</td>\n",
       "      <td>No</td>\n",
       "      <td>Sun</td>\n",
       "      <td>Dinner</td>\n",
       "      <td>3</td>\n",
       "    </tr>\n",
       "    <tr>\n",
       "      <th>2</th>\n",
       "      <td>21.01</td>\n",
       "      <td>3.50</td>\n",
       "      <td>Male</td>\n",
       "      <td>No</td>\n",
       "      <td>Sun</td>\n",
       "      <td>Dinner</td>\n",
       "      <td>3</td>\n",
       "    </tr>\n",
       "    <tr>\n",
       "      <th>3</th>\n",
       "      <td>23.68</td>\n",
       "      <td>3.31</td>\n",
       "      <td>Male</td>\n",
       "      <td>No</td>\n",
       "      <td>Sun</td>\n",
       "      <td>Dinner</td>\n",
       "      <td>2</td>\n",
       "    </tr>\n",
       "    <tr>\n",
       "      <th>4</th>\n",
       "      <td>24.59</td>\n",
       "      <td>3.61</td>\n",
       "      <td>Female</td>\n",
       "      <td>No</td>\n",
       "      <td>Sun</td>\n",
       "      <td>Dinner</td>\n",
       "      <td>4</td>\n",
       "    </tr>\n",
       "  </tbody>\n",
       "</table>\n",
       "</div>"
      ],
      "text/plain": [
       "   total_bill   tip     sex smoker  day    time  size\n",
       "0       16.99  1.01  Female     No  Sun  Dinner     2\n",
       "1       10.34  1.66    Male     No  Sun  Dinner     3\n",
       "2       21.01  3.50    Male     No  Sun  Dinner     3\n",
       "3       23.68  3.31    Male     No  Sun  Dinner     2\n",
       "4       24.59  3.61  Female     No  Sun  Dinner     4"
      ]
     },
     "execution_count": 23,
     "metadata": {},
     "output_type": "execute_result"
    }
   ],
   "source": [
    "df.head()"
   ]
  },
  {
   "cell_type": "code",
   "execution_count": 27,
   "id": "f57e960f",
   "metadata": {},
   "outputs": [
    {
     "name": "stdout",
     "output_type": "stream",
     "text": [
      "<class 'pandas.core.frame.DataFrame'>\n",
      "RangeIndex: 244 entries, 0 to 243\n",
      "Data columns (total 7 columns):\n",
      " #   Column      Non-Null Count  Dtype   \n",
      "---  ------      --------------  -----   \n",
      " 0   total_bill  244 non-null    float64 \n",
      " 1   tip         244 non-null    float64 \n",
      " 2   sex         244 non-null    category\n",
      " 3   smoker      244 non-null    category\n",
      " 4   day         244 non-null    category\n",
      " 5   time        244 non-null    category\n",
      " 6   size        244 non-null    int64   \n",
      "dtypes: category(4), float64(2), int64(1)\n",
      "memory usage: 7.4 KB\n"
     ]
    }
   ],
   "source": [
    "df.info()"
   ]
  },
  {
   "cell_type": "code",
   "execution_count": 30,
   "id": "6a676c17",
   "metadata": {},
   "outputs": [
    {
     "name": "stdout",
     "output_type": "stream",
     "text": [
      "sex\n",
      "Male      157\n",
      "Female     87\n",
      "Name: count, dtype: int64\n",
      "----------------------------------------\n",
      "smoker\n",
      "No     151\n",
      "Yes     93\n",
      "Name: count, dtype: int64\n",
      "----------------------------------------\n",
      "day\n",
      "Sat     87\n",
      "Sun     76\n",
      "Thur    62\n",
      "Fri     19\n",
      "Name: count, dtype: int64\n",
      "----------------------------------------\n",
      "time\n",
      "Dinner    176\n",
      "Lunch      68\n",
      "Name: count, dtype: int64\n",
      "----------------------------------------\n"
     ]
    }
   ],
   "source": [
    "for column in df.columns:\n",
    "    if df[column].dtype == 'category':\n",
    "        print(f\"{df[column].value_counts()}\")\n",
    "        print(\"-\"*40)"
   ]
  },
  {
   "cell_type": "code",
   "execution_count": 16,
   "id": "cc13fd52",
   "metadata": {},
   "outputs": [],
   "source": [
    "X = df[['total_bill', 'tip', 'sex', 'smoker', 'day', 'size']]\n",
    "y = df['time']"
   ]
  },
  {
   "cell_type": "code",
   "execution_count": 31,
   "id": "7b638fc6",
   "metadata": {},
   "outputs": [],
   "source": [
    "## train test split\n",
    "X_train, X_test, y_train, y_test = train_test_split(X,y,test_size=0.3,random_state=0)"
   ]
  },
  {
   "cell_type": "code",
   "execution_count": 34,
   "id": "1eb1501c",
   "metadata": {},
   "outputs": [],
   "source": [
    "# Encoding the categorical features features \n",
    "from sklearn.compose import ColumnTransformer\n",
    "from sklearn.preprocessing import OneHotEncoder\n",
    "\n",
    "ct = ColumnTransformer(transformers = [('one_hot', OneHotEncoder(drop='first'), [2,3,4])],\n",
    "                  remainder='passthrough')"
   ]
  },
  {
   "cell_type": "code",
   "execution_count": 35,
   "id": "d56d9d7c",
   "metadata": {},
   "outputs": [],
   "source": [
    "X_train = ct.fit_transform(X_train)\n",
    "X_test = ct.transform(X_test)"
   ]
  },
  {
   "cell_type": "code",
   "execution_count": 39,
   "id": "7a40384c",
   "metadata": {},
   "outputs": [
    {
     "data": {
      "text/plain": [
       "array([[ 1.  ,  1.  ,  1.  ,  0.  ,  0.  , 13.81,  2.  ,  2.  ],\n",
       "       [ 0.  ,  0.  ,  0.  ,  0.  ,  1.  , 18.64,  1.36,  3.  ],\n",
       "       [ 0.  ,  0.  ,  0.  ,  1.  ,  0.  , 34.81,  5.2 ,  4.  ],\n",
       "       [ 0.  ,  0.  ,  1.  ,  0.  ,  0.  , 16.45,  2.47,  2.  ],\n",
       "       [ 1.  ,  0.  ,  1.  ,  0.  ,  0.  , 13.37,  2.  ,  2.  ],\n",
       "       [ 0.  ,  0.  ,  0.  ,  0.  ,  1.  , 18.26,  3.25,  2.  ],\n",
       "       [ 0.  ,  0.  ,  0.  ,  0.  ,  1.  ,  8.51,  1.25,  2.  ],\n",
       "       [ 1.  ,  1.  ,  1.  ,  0.  ,  0.  , 11.59,  1.5 ,  2.  ],\n",
       "       [ 1.  ,  0.  ,  1.  ,  0.  ,  0.  , 16.04,  2.24,  3.  ],\n",
       "       [ 1.  ,  0.  ,  0.  ,  1.  ,  0.  , 18.43,  3.  ,  4.  ],\n",
       "       [ 1.  ,  0.  ,  0.  ,  1.  ,  0.  , 23.68,  3.31,  2.  ],\n",
       "       [ 1.  ,  0.  ,  0.  ,  1.  ,  0.  , 17.26,  2.74,  3.  ],\n",
       "       [ 1.  ,  0.  ,  1.  ,  0.  ,  0.  , 19.82,  3.18,  2.  ],\n",
       "       [ 1.  ,  0.  ,  1.  ,  0.  ,  0.  ,  9.55,  1.45,  2.  ],\n",
       "       [ 1.  ,  1.  ,  1.  ,  0.  ,  0.  ,  7.74,  1.44,  2.  ],\n",
       "       [ 1.  ,  1.  ,  1.  ,  0.  ,  0.  , 20.29,  3.21,  2.  ],\n",
       "       [ 1.  ,  1.  ,  1.  ,  0.  ,  0.  , 38.01,  3.  ,  4.  ],\n",
       "       [ 1.  ,  1.  ,  0.  ,  1.  ,  0.  , 34.63,  3.55,  2.  ],\n",
       "       [ 0.  ,  1.  ,  1.  ,  0.  ,  0.  , 28.17,  6.5 ,  3.  ],\n",
       "       [ 1.  ,  0.  ,  1.  ,  0.  ,  0.  , 20.65,  3.35,  3.  ],\n",
       "       [ 1.  ,  1.  ,  0.  ,  1.  ,  0.  , 45.35,  3.5 ,  3.  ],\n",
       "       [ 1.  ,  0.  ,  0.  ,  0.  ,  1.  , 22.82,  2.18,  3.  ],\n",
       "       [ 1.  ,  0.  ,  0.  ,  1.  ,  0.  , 25.56,  4.34,  4.  ],\n",
       "       [ 0.  ,  0.  ,  1.  ,  0.  ,  0.  , 35.83,  4.67,  3.  ],\n",
       "       [ 1.  ,  1.  ,  0.  ,  0.  ,  1.  , 19.44,  3.  ,  2.  ],\n",
       "       [ 0.  ,  0.  ,  0.  ,  1.  ,  0.  , 10.29,  2.6 ,  2.  ],\n",
       "       [ 1.  ,  0.  ,  0.  ,  0.  ,  1.  , 15.95,  2.  ,  2.  ],\n",
       "       [ 0.  ,  1.  ,  0.  ,  0.  ,  1.  , 12.74,  2.01,  2.  ],\n",
       "       [ 1.  ,  0.  ,  0.  ,  0.  ,  1.  , 19.08,  1.5 ,  2.  ],\n",
       "       [ 1.  ,  0.  ,  0.  ,  0.  ,  1.  , 13.03,  2.  ,  2.  ],\n",
       "       [ 1.  ,  0.  ,  0.  ,  1.  ,  0.  , 10.27,  1.71,  2.  ],\n",
       "       [ 0.  ,  0.  ,  0.  ,  0.  ,  1.  , 14.15,  2.  ,  2.  ],\n",
       "       [ 1.  ,  1.  ,  0.  ,  1.  ,  0.  , 31.85,  3.18,  2.  ],\n",
       "       [ 1.  ,  0.  ,  0.  ,  0.  ,  1.  ,  8.52,  1.48,  2.  ],\n",
       "       [ 1.  ,  0.  ,  0.  ,  1.  ,  0.  , 17.46,  2.54,  2.  ],\n",
       "       [ 0.  ,  0.  ,  0.  ,  1.  ,  0.  , 14.83,  3.02,  2.  ],\n",
       "       [ 1.  ,  0.  ,  1.  ,  0.  ,  0.  , 12.69,  2.  ,  2.  ],\n",
       "       [ 1.  ,  0.  ,  0.  ,  1.  ,  0.  , 12.54,  2.5 ,  2.  ],\n",
       "       [ 0.  ,  1.  ,  0.  ,  0.  ,  0.  , 13.42,  3.48,  2.  ],\n",
       "       [ 1.  ,  0.  ,  1.  ,  0.  ,  0.  , 17.92,  4.08,  2.  ],\n",
       "       [ 0.  ,  0.  ,  0.  ,  1.  ,  0.  , 16.21,  2.  ,  3.  ],\n",
       "       [ 1.  ,  0.  ,  0.  ,  1.  ,  0.  , 22.23,  5.  ,  2.  ],\n",
       "       [ 1.  ,  0.  ,  0.  ,  1.  ,  0.  , 20.76,  2.24,  2.  ],\n",
       "       [ 1.  ,  0.  ,  1.  ,  0.  ,  0.  , 29.03,  5.92,  3.  ],\n",
       "       [ 1.  ,  0.  ,  0.  ,  1.  ,  0.  , 21.5 ,  3.5 ,  4.  ],\n",
       "       [ 1.  ,  1.  ,  1.  ,  0.  ,  0.  , 50.81, 10.  ,  3.  ],\n",
       "       [ 1.  ,  1.  ,  1.  ,  0.  ,  0.  , 11.02,  1.98,  2.  ],\n",
       "       [ 1.  ,  1.  ,  0.  ,  1.  ,  0.  , 15.69,  1.5 ,  2.  ],\n",
       "       [ 1.  ,  0.  ,  0.  ,  1.  ,  0.  , 16.49,  2.  ,  4.  ],\n",
       "       [ 1.  ,  0.  ,  0.  ,  1.  ,  0.  , 21.01,  3.5 ,  3.  ],\n",
       "       [ 1.  ,  0.  ,  1.  ,  0.  ,  0.  , 48.27,  6.73,  4.  ],\n",
       "       [ 1.  ,  0.  ,  0.  ,  0.  ,  1.  ,  7.51,  2.  ,  2.  ],\n",
       "       [ 1.  ,  0.  ,  1.  ,  0.  ,  0.  , 20.45,  3.  ,  4.  ],\n",
       "       [ 1.  ,  0.  ,  0.  ,  1.  ,  0.  ,  9.68,  1.32,  2.  ],\n",
       "       [ 0.  ,  1.  ,  0.  ,  0.  ,  1.  , 19.81,  4.19,  2.  ],\n",
       "       [ 0.  ,  0.  ,  0.  ,  0.  ,  1.  , 13.16,  2.75,  2.  ],\n",
       "       [ 1.  ,  0.  ,  0.  ,  1.  ,  0.  , 19.77,  2.  ,  4.  ],\n",
       "       [ 1.  ,  0.  ,  0.  ,  1.  ,  0.  , 38.07,  4.  ,  3.  ],\n",
       "       [ 1.  ,  1.  ,  1.  ,  0.  ,  0.  , 26.59,  3.41,  3.  ],\n",
       "       [ 1.  ,  1.  ,  0.  ,  0.  ,  0.  , 21.01,  3.  ,  2.  ],\n",
       "       [ 1.  ,  0.  ,  0.  ,  1.  ,  0.  , 24.55,  2.  ,  4.  ],\n",
       "       [ 0.  ,  1.  ,  0.  ,  0.  ,  0.  , 16.32,  4.3 ,  2.  ],\n",
       "       [ 0.  ,  0.  ,  0.  ,  0.  ,  1.  , 16.43,  2.3 ,  2.  ],\n",
       "       [ 1.  ,  0.  ,  1.  ,  0.  ,  0.  , 10.77,  1.47,  2.  ],\n",
       "       [ 1.  ,  0.  ,  0.  ,  1.  ,  0.  , 23.95,  2.55,  2.  ],\n",
       "       [ 0.  ,  0.  ,  0.  ,  1.  ,  0.  , 16.99,  1.01,  2.  ],\n",
       "       [ 0.  ,  0.  ,  0.  ,  0.  ,  0.  , 22.75,  3.25,  2.  ],\n",
       "       [ 1.  ,  1.  ,  0.  ,  0.  ,  0.  , 40.17,  4.73,  4.  ],\n",
       "       [ 1.  ,  1.  ,  1.  ,  0.  ,  0.  , 15.01,  2.09,  2.  ],\n",
       "       [ 1.  ,  0.  ,  0.  ,  1.  ,  0.  , 18.04,  3.  ,  2.  ],\n",
       "       [ 1.  ,  0.  ,  0.  ,  1.  ,  0.  , 28.55,  2.05,  3.  ],\n",
       "       [ 0.  ,  0.  ,  0.  ,  0.  ,  1.  , 34.83,  5.17,  4.  ],\n",
       "       [ 1.  ,  1.  ,  1.  ,  0.  ,  0.  , 22.67,  2.  ,  2.  ],\n",
       "       [ 1.  ,  0.  ,  0.  ,  0.  ,  1.  , 34.3 ,  6.7 ,  6.  ],\n",
       "       [ 1.  ,  0.  ,  1.  ,  0.  ,  0.  , 39.42,  7.58,  4.  ],\n",
       "       [ 0.  ,  1.  ,  1.  ,  0.  ,  0.  , 12.9 ,  1.1 ,  2.  ],\n",
       "       [ 0.  ,  0.  ,  0.  ,  0.  ,  1.  , 27.05,  5.  ,  6.  ],\n",
       "       [ 1.  ,  0.  ,  0.  ,  0.  ,  1.  , 22.76,  3.  ,  2.  ],\n",
       "       [ 0.  ,  1.  ,  0.  ,  0.  ,  0.  , 11.35,  2.5 ,  2.  ],\n",
       "       [ 0.  ,  0.  ,  0.  ,  0.  ,  1.  , 20.27,  2.83,  2.  ],\n",
       "       [ 1.  ,  1.  ,  0.  ,  0.  ,  1.  , 10.34,  2.  ,  2.  ],\n",
       "       [ 1.  ,  0.  ,  1.  ,  0.  ,  0.  , 17.82,  1.75,  2.  ],\n",
       "       [ 1.  ,  0.  ,  0.  ,  1.  ,  0.  ,  8.77,  2.  ,  2.  ],\n",
       "       [ 1.  ,  0.  ,  1.  ,  0.  ,  0.  , 20.23,  2.01,  2.  ],\n",
       "       [ 1.  ,  0.  ,  0.  ,  0.  ,  1.  , 15.98,  2.03,  2.  ],\n",
       "       [ 0.  ,  0.  ,  0.  ,  0.  ,  1.  , 13.42,  1.68,  2.  ],\n",
       "       [ 1.  ,  0.  ,  1.  ,  0.  ,  0.  , 13.28,  2.72,  2.  ],\n",
       "       [ 1.  ,  1.  ,  0.  ,  1.  ,  0.  , 40.55,  3.  ,  2.  ],\n",
       "       [ 1.  ,  1.  ,  1.  ,  0.  ,  0.  , 38.73,  3.  ,  4.  ],\n",
       "       [ 0.  ,  1.  ,  0.  ,  0.  ,  1.  , 13.  ,  2.  ,  2.  ],\n",
       "       [ 0.  ,  1.  ,  0.  ,  1.  ,  0.  , 20.9 ,  3.5 ,  3.  ],\n",
       "       [ 1.  ,  0.  ,  0.  ,  0.  ,  0.  , 22.49,  3.5 ,  2.  ],\n",
       "       [ 0.  ,  1.  ,  1.  ,  0.  ,  0.  , 13.27,  2.5 ,  2.  ],\n",
       "       [ 0.  ,  0.  ,  0.  ,  1.  ,  0.  , 35.26,  5.  ,  4.  ],\n",
       "       [ 0.  ,  0.  ,  0.  ,  0.  ,  1.  , 24.08,  2.92,  4.  ],\n",
       "       [ 0.  ,  1.  ,  1.  ,  0.  ,  0.  , 44.3 ,  2.5 ,  3.  ],\n",
       "       [ 1.  ,  0.  ,  1.  ,  0.  ,  0.  , 24.06,  3.6 ,  3.  ],\n",
       "       [ 0.  ,  0.  ,  1.  ,  0.  ,  0.  , 26.41,  1.5 ,  2.  ],\n",
       "       [ 0.  ,  1.  ,  1.  ,  0.  ,  0.  , 10.63,  2.  ,  2.  ],\n",
       "       [ 1.  ,  0.  ,  1.  ,  0.  ,  0.  , 20.08,  3.15,  3.  ],\n",
       "       [ 1.  ,  0.  ,  0.  ,  1.  ,  0.  , 10.34,  1.66,  3.  ],\n",
       "       [ 1.  ,  0.  ,  0.  ,  0.  ,  1.  , 11.69,  2.31,  2.  ],\n",
       "       [ 1.  ,  1.  ,  0.  ,  0.  ,  1.  , 16.58,  4.  ,  2.  ],\n",
       "       [ 1.  ,  0.  ,  0.  ,  1.  ,  0.  , 13.94,  3.06,  2.  ],\n",
       "       [ 1.  ,  1.  ,  1.  ,  0.  ,  0.  , 15.36,  1.64,  2.  ],\n",
       "       [ 0.  ,  0.  ,  0.  ,  0.  ,  1.  , 11.17,  1.5 ,  2.  ],\n",
       "       [ 1.  ,  0.  ,  1.  ,  0.  ,  0.  , 10.07,  1.25,  2.  ],\n",
       "       [ 1.  ,  0.  ,  0.  ,  1.  ,  0.  , 16.29,  3.71,  3.  ],\n",
       "       [ 1.  ,  0.  ,  1.  ,  0.  ,  0.  , 18.69,  2.31,  3.  ],\n",
       "       [ 0.  ,  0.  ,  0.  ,  0.  ,  1.  , 12.26,  2.  ,  2.  ],\n",
       "       [ 1.  ,  0.  ,  0.  ,  1.  ,  0.  ,  9.94,  1.56,  2.  ],\n",
       "       [ 0.  ,  1.  ,  0.  ,  1.  ,  0.  , 17.51,  3.  ,  2.  ],\n",
       "       [ 1.  ,  1.  ,  0.  ,  1.  ,  0.  , 30.46,  2.  ,  5.  ],\n",
       "       [ 0.  ,  0.  ,  0.  ,  0.  ,  1.  , 11.38,  2.  ,  2.  ],\n",
       "       [ 1.  ,  0.  ,  1.  ,  0.  ,  0.  , 17.78,  3.27,  2.  ],\n",
       "       [ 1.  ,  0.  ,  1.  ,  0.  ,  0.  , 21.7 ,  4.3 ,  2.  ],\n",
       "       [ 1.  ,  1.  ,  0.  ,  1.  ,  0.  , 23.17,  6.5 ,  4.  ],\n",
       "       [ 0.  ,  0.  ,  0.  ,  1.  ,  0.  , 25.71,  4.  ,  3.  ],\n",
       "       [ 1.  ,  0.  ,  0.  ,  1.  ,  0.  , 13.81,  2.  ,  2.  ],\n",
       "       [ 1.  ,  0.  ,  0.  ,  1.  ,  0.  , 13.13,  2.  ,  2.  ],\n",
       "       [ 1.  ,  0.  ,  1.  ,  0.  ,  0.  , 18.35,  2.5 ,  4.  ],\n",
       "       [ 1.  ,  1.  ,  0.  ,  0.  ,  1.  , 18.71,  4.  ,  3.  ],\n",
       "       [ 0.  ,  0.  ,  0.  ,  0.  ,  1.  , 14.52,  2.  ,  2.  ],\n",
       "       [ 1.  ,  0.  ,  0.  ,  1.  ,  0.  , 20.69,  5.  ,  5.  ],\n",
       "       [ 1.  ,  1.  ,  1.  ,  0.  ,  0.  , 24.01,  2.  ,  4.  ],\n",
       "       [ 0.  ,  1.  ,  0.  ,  0.  ,  0.  , 10.09,  2.  ,  2.  ],\n",
       "       [ 0.  ,  0.  ,  1.  ,  0.  ,  0.  , 15.06,  3.  ,  2.  ],\n",
       "       [ 1.  ,  0.  ,  0.  ,  1.  ,  0.  , 31.71,  4.5 ,  4.  ],\n",
       "       [ 1.  ,  0.  ,  0.  ,  0.  ,  1.  , 41.19,  5.  ,  5.  ],\n",
       "       [ 1.  ,  1.  ,  0.  ,  0.  ,  1.  , 20.53,  4.  ,  4.  ],\n",
       "       [ 0.  ,  0.  ,  0.  ,  0.  ,  1.  , 11.87,  1.63,  2.  ],\n",
       "       [ 0.  ,  0.  ,  1.  ,  0.  ,  0.  , 19.65,  3.  ,  2.  ],\n",
       "       [ 1.  ,  1.  ,  0.  ,  1.  ,  0.  , 14.48,  2.  ,  2.  ],\n",
       "       [ 1.  ,  0.  ,  0.  ,  0.  ,  0.  , 12.46,  1.5 ,  2.  ],\n",
       "       [ 0.  ,  0.  ,  0.  ,  0.  ,  1.  , 10.07,  1.83,  1.  ],\n",
       "       [ 0.  ,  1.  ,  1.  ,  0.  ,  0.  , 27.18,  2.  ,  2.  ],\n",
       "       [ 1.  ,  1.  ,  0.  ,  1.  ,  0.  , 32.9 ,  3.11,  2.  ],\n",
       "       [ 1.  ,  0.  ,  0.  ,  0.  ,  1.  , 17.29,  2.71,  2.  ],\n",
       "       [ 0.  ,  1.  ,  0.  ,  0.  ,  1.  , 43.11,  5.  ,  4.  ],\n",
       "       [ 1.  ,  1.  ,  1.  ,  0.  ,  0.  , 24.27,  2.03,  2.  ],\n",
       "       [ 0.  ,  0.  ,  0.  ,  1.  ,  0.  , 17.31,  3.5 ,  2.  ],\n",
       "       [ 1.  ,  0.  ,  0.  ,  0.  ,  1.  ,  9.78,  1.73,  2.  ],\n",
       "       [ 1.  ,  1.  ,  1.  ,  0.  ,  0.  , 12.6 ,  1.  ,  2.  ],\n",
       "       [ 0.  ,  1.  ,  1.  ,  0.  ,  0.  , 26.86,  3.14,  2.  ],\n",
       "       [ 1.  ,  0.  ,  0.  ,  0.  ,  1.  , 27.2 ,  4.  ,  4.  ],\n",
       "       [ 1.  ,  0.  ,  1.  ,  0.  ,  0.  , 17.81,  2.34,  4.  ],\n",
       "       [ 1.  ,  0.  ,  0.  ,  1.  ,  0.  , 24.52,  3.48,  3.  ],\n",
       "       [ 1.  ,  0.  ,  0.  ,  0.  ,  1.  , 16.66,  3.4 ,  2.  ],\n",
       "       [ 0.  ,  1.  ,  1.  ,  0.  ,  0.  , 22.12,  2.88,  2.  ],\n",
       "       [ 1.  ,  1.  ,  0.  ,  1.  ,  0.  , 16.82,  4.  ,  2.  ],\n",
       "       [ 1.  ,  0.  ,  1.  ,  0.  ,  0.  , 11.61,  3.39,  2.  ],\n",
       "       [ 1.  ,  0.  ,  1.  ,  0.  ,  0.  , 31.27,  5.  ,  3.  ],\n",
       "       [ 1.  ,  1.  ,  0.  ,  0.  ,  1.  , 15.48,  2.02,  2.  ],\n",
       "       [ 1.  ,  1.  ,  1.  ,  0.  ,  0.  , 11.24,  1.76,  2.  ],\n",
       "       [ 0.  ,  0.  ,  0.  ,  0.  ,  1.  , 17.47,  3.5 ,  2.  ],\n",
       "       [ 1.  ,  0.  ,  0.  ,  0.  ,  1.  , 24.71,  5.85,  2.  ],\n",
       "       [ 1.  ,  1.  ,  1.  ,  0.  ,  0.  , 28.15,  3.  ,  5.  ],\n",
       "       [ 1.  ,  0.  ,  1.  ,  0.  ,  0.  , 12.02,  1.97,  2.  ],\n",
       "       [ 1.  ,  0.  ,  0.  ,  0.  ,  1.  , 18.28,  4.  ,  2.  ],\n",
       "       [ 1.  ,  0.  ,  1.  ,  0.  ,  0.  , 16.31,  2.  ,  3.  ],\n",
       "       [ 0.  ,  0.  ,  1.  ,  0.  ,  0.  , 20.29,  2.75,  2.  ],\n",
       "       [ 1.  ,  1.  ,  1.  ,  0.  ,  0.  , 25.89,  5.16,  4.  ],\n",
       "       [ 1.  ,  0.  ,  0.  ,  1.  ,  0.  , 14.78,  3.23,  2.  ],\n",
       "       [ 0.  ,  1.  ,  1.  ,  0.  ,  0.  , 22.42,  3.48,  2.  ],\n",
       "       [ 1.  ,  0.  ,  0.  ,  0.  ,  1.  ,  7.56,  1.44,  2.  ],\n",
       "       [ 0.  ,  1.  ,  1.  ,  0.  ,  0.  ,  3.07,  1.  ,  1.  ],\n",
       "       [ 1.  ,  1.  ,  0.  ,  0.  ,  1.  , 28.44,  2.56,  2.  ],\n",
       "       [ 0.  ,  0.  ,  0.  ,  0.  ,  1.  , 10.65,  1.5 ,  2.  ],\n",
       "       [ 1.  ,  0.  ,  0.  ,  1.  ,  0.  , 32.4 ,  6.  ,  4.  ],\n",
       "       [ 1.  ,  1.  ,  0.  ,  1.  ,  0.  ,  7.25,  5.15,  2.  ]])"
      ]
     },
     "execution_count": 39,
     "metadata": {},
     "output_type": "execute_result"
    }
   ],
   "source": [
    "import sys\n",
    "np.set_printoptions(threshold=sys.maxsize)\n",
    "X_train"
   ]
  },
  {
   "cell_type": "code",
   "execution_count": 40,
   "id": "52761c4f",
   "metadata": {},
   "outputs": [
    {
     "data": {
      "text/plain": [
       "array([[ 1.  ,  0.  ,  1.  ,  0.  ,  0.  , 17.59,  2.64,  3.  ],\n",
       "       [ 1.  ,  1.  ,  1.  ,  0.  ,  0.  , 18.29,  3.76,  4.  ],\n",
       "       [ 1.  ,  0.  ,  0.  ,  1.  ,  0.  , 19.49,  3.51,  2.  ],\n",
       "       [ 0.  ,  0.  ,  1.  ,  0.  ,  0.  ,  7.25,  1.  ,  1.  ],\n",
       "       [ 0.  ,  1.  ,  0.  ,  0.  ,  0.  , 16.27,  2.5 ,  2.  ],\n",
       "       [ 0.  ,  1.  ,  0.  ,  0.  ,  0.  ,  5.75,  1.  ,  2.  ],\n",
       "       [ 1.  ,  1.  ,  1.  ,  0.  ,  0.  , 17.92,  3.08,  2.  ],\n",
       "       [ 1.  ,  1.  ,  0.  ,  1.  ,  0.  , 23.33,  5.65,  2.  ],\n",
       "       [ 0.  ,  1.  ,  0.  ,  1.  ,  0.  , 18.15,  3.5 ,  3.  ],\n",
       "       [ 1.  ,  1.  ,  0.  ,  1.  ,  0.  , 34.65,  3.68,  4.  ],\n",
       "       [ 0.  ,  1.  ,  1.  ,  0.  ,  0.  , 25.28,  5.  ,  2.  ],\n",
       "       [ 1.  ,  1.  ,  1.  ,  0.  ,  0.  , 25.21,  4.29,  2.  ],\n",
       "       [ 1.  ,  0.  ,  0.  ,  1.  ,  0.  , 14.07,  2.5 ,  2.  ],\n",
       "       [ 0.  ,  1.  ,  0.  ,  0.  ,  1.  , 13.  ,  2.  ,  2.  ],\n",
       "       [ 1.  ,  1.  ,  0.  ,  0.  ,  0.  , 13.42,  1.58,  2.  ],\n",
       "       [ 1.  ,  0.  ,  0.  ,  1.  ,  0.  , 30.4 ,  5.6 ,  4.  ],\n",
       "       [ 0.  ,  0.  ,  0.  ,  0.  ,  1.  ,  8.35,  1.5 ,  2.  ],\n",
       "       [ 1.  ,  0.  ,  1.  ,  0.  ,  0.  , 14.  ,  3.  ,  2.  ],\n",
       "       [ 0.  ,  0.  ,  0.  ,  0.  ,  1.  , 18.78,  3.  ,  2.  ],\n",
       "       [ 1.  ,  1.  ,  0.  ,  1.  ,  0.  , 23.1 ,  4.  ,  3.  ],\n",
       "       [ 1.  ,  1.  ,  1.  ,  0.  ,  0.  , 30.06,  2.  ,  3.  ],\n",
       "       [ 0.  ,  0.  ,  1.  ,  0.  ,  0.  , 20.92,  4.08,  2.  ],\n",
       "       [ 1.  ,  1.  ,  0.  ,  0.  ,  1.  , 16.  ,  2.  ,  2.  ],\n",
       "       [ 1.  ,  0.  ,  0.  ,  1.  ,  0.  , 15.04,  1.96,  2.  ],\n",
       "       [ 1.  ,  1.  ,  0.  ,  0.  ,  1.  , 13.51,  2.  ,  2.  ],\n",
       "       [ 0.  ,  1.  ,  0.  ,  0.  ,  1.  , 16.4 ,  2.5 ,  2.  ],\n",
       "       [ 1.  ,  1.  ,  0.  ,  0.  ,  0.  , 12.16,  2.2 ,  2.  ],\n",
       "       [ 0.  ,  0.  ,  0.  ,  0.  ,  1.  , 29.8 ,  4.2 ,  6.  ],\n",
       "       [ 1.  ,  0.  ,  0.  ,  1.  ,  0.  , 25.29,  4.71,  4.  ],\n",
       "       [ 0.  ,  0.  ,  1.  ,  0.  ,  0.  , 15.77,  2.23,  2.  ],\n",
       "       [ 0.  ,  0.  ,  1.  ,  0.  ,  0.  , 14.73,  2.2 ,  2.  ],\n",
       "       [ 0.  ,  0.  ,  0.  ,  0.  ,  1.  , 12.48,  2.52,  2.  ],\n",
       "       [ 1.  ,  0.  ,  0.  ,  1.  ,  0.  , 15.42,  1.57,  2.  ],\n",
       "       [ 0.  ,  1.  ,  1.  ,  0.  ,  0.  , 10.59,  1.61,  2.  ],\n",
       "       [ 1.  ,  0.  ,  0.  ,  1.  ,  0.  , 18.29,  3.  ,  2.  ],\n",
       "       [ 0.  ,  0.  ,  0.  ,  1.  ,  0.  , 13.39,  2.61,  2.  ],\n",
       "       [ 0.  ,  0.  ,  1.  ,  0.  ,  0.  , 16.93,  3.07,  3.  ],\n",
       "       [ 0.  ,  0.  ,  0.  ,  0.  ,  1.  , 10.33,  2.  ,  2.  ],\n",
       "       [ 1.  ,  0.  ,  1.  ,  0.  ,  0.  , 48.33,  9.  ,  4.  ],\n",
       "       [ 0.  ,  0.  ,  0.  ,  0.  ,  0.  , 15.98,  3.  ,  3.  ],\n",
       "       [ 1.  ,  1.  ,  0.  ,  0.  ,  0.  ,  8.58,  1.92,  1.  ],\n",
       "       [ 0.  ,  0.  ,  0.  ,  0.  ,  1.  , 12.43,  1.8 ,  2.  ],\n",
       "       [ 1.  ,  1.  ,  1.  ,  0.  ,  0.  , 15.69,  3.  ,  3.  ],\n",
       "       [ 0.  ,  0.  ,  0.  ,  1.  ,  0.  , 29.85,  5.14,  5.  ],\n",
       "       [ 0.  ,  1.  ,  1.  ,  0.  ,  0.  , 12.76,  2.23,  2.  ],\n",
       "       [ 0.  ,  0.  ,  0.  ,  1.  ,  0.  , 16.97,  3.5 ,  3.  ],\n",
       "       [ 1.  ,  0.  ,  1.  ,  0.  ,  0.  , 18.24,  3.76,  2.  ],\n",
       "       [ 1.  ,  0.  ,  0.  ,  1.  ,  0.  , 21.58,  3.92,  2.  ],\n",
       "       [ 0.  ,  0.  ,  1.  ,  0.  ,  0.  , 17.07,  3.  ,  3.  ],\n",
       "       [ 1.  ,  0.  ,  0.  ,  1.  ,  0.  , 26.88,  3.12,  4.  ],\n",
       "       [ 1.  ,  1.  ,  0.  ,  0.  ,  1.  , 32.68,  5.  ,  2.  ],\n",
       "       [ 1.  ,  1.  ,  0.  ,  1.  ,  0.  , 17.89,  2.  ,  2.  ],\n",
       "       [ 1.  ,  1.  ,  1.  ,  0.  ,  0.  , 20.49,  4.06,  2.  ],\n",
       "       [ 1.  ,  0.  ,  0.  ,  1.  ,  0.  , 48.17,  5.  ,  6.  ],\n",
       "       [ 0.  ,  1.  ,  0.  ,  1.  ,  0.  ,  9.6 ,  4.  ,  2.  ],\n",
       "       [ 1.  ,  1.  ,  0.  ,  0.  ,  0.  , 12.03,  1.5 ,  2.  ],\n",
       "       [ 1.  ,  0.  ,  0.  ,  1.  ,  0.  , 29.93,  5.07,  4.  ],\n",
       "       [ 0.  ,  0.  ,  1.  ,  0.  ,  0.  , 20.69,  2.45,  4.  ],\n",
       "       [ 1.  ,  0.  ,  0.  ,  0.  ,  1.  , 14.26,  2.5 ,  2.  ],\n",
       "       [ 1.  ,  0.  ,  0.  ,  1.  ,  0.  , 12.66,  2.5 ,  2.  ],\n",
       "       [ 1.  ,  1.  ,  0.  ,  0.  ,  0.  , 27.28,  4.  ,  2.  ],\n",
       "       [ 1.  ,  1.  ,  1.  ,  0.  ,  0.  , 15.81,  3.16,  2.  ],\n",
       "       [ 1.  ,  0.  ,  0.  ,  0.  ,  1.  , 21.16,  3.  ,  2.  ],\n",
       "       [ 0.  ,  0.  ,  0.  ,  1.  ,  0.  , 25.  ,  3.75,  4.  ],\n",
       "       [ 0.  ,  1.  ,  1.  ,  0.  ,  0.  , 30.14,  3.09,  4.  ],\n",
       "       [ 1.  ,  1.  ,  1.  ,  0.  ,  0.  , 15.53,  3.  ,  2.  ],\n",
       "       [ 0.  ,  1.  ,  0.  ,  0.  ,  1.  , 16.47,  3.23,  3.  ],\n",
       "       [ 1.  ,  1.  ,  1.  ,  0.  ,  0.  , 32.83,  1.17,  2.  ],\n",
       "       [ 0.  ,  0.  ,  0.  ,  1.  ,  0.  , 10.33,  1.67,  3.  ],\n",
       "       [ 1.  ,  1.  ,  0.  ,  0.  ,  0.  , 28.97,  3.  ,  2.  ],\n",
       "       [ 0.  ,  1.  ,  0.  ,  0.  ,  0.  , 15.38,  3.  ,  2.  ],\n",
       "       [ 1.  ,  0.  ,  1.  ,  0.  ,  0.  , 10.51,  1.25,  2.  ],\n",
       "       [ 0.  ,  0.  ,  0.  ,  1.  ,  0.  , 24.59,  3.61,  4.  ],\n",
       "       [ 0.  ,  1.  ,  1.  ,  0.  ,  0.  , 14.31,  4.  ,  2.  ]])"
      ]
     },
     "execution_count": 40,
     "metadata": {},
     "output_type": "execute_result"
    }
   ],
   "source": [
    "X_test"
   ]
  },
  {
   "cell_type": "code",
   "execution_count": 41,
   "id": "773582c5",
   "metadata": {},
   "outputs": [],
   "source": [
    "from sklearn.preprocessing import LabelEncoder\n",
    "le = LabelEncoder()\n",
    "y_train = le.fit_transform(y_train)"
   ]
  },
  {
   "cell_type": "code",
   "execution_count": 44,
   "id": "34c897e1",
   "metadata": {},
   "outputs": [
    {
     "name": "stdout",
     "output_type": "stream",
     "text": [
      "0 : Dinner\n",
      "1 : Lunch\n"
     ]
    }
   ],
   "source": [
    "for i,label in enumerate(le.classes_):\n",
    "    print(f\"{i} : {label}\")"
   ]
  },
  {
   "cell_type": "code",
   "execution_count": 47,
   "id": "e7e67fbf",
   "metadata": {},
   "outputs": [],
   "source": [
    "y_test = le.transform(y_test)"
   ]
  },
  {
   "cell_type": "code",
   "execution_count": 48,
   "id": "49d61ceb",
   "metadata": {},
   "outputs": [],
   "source": [
    "from sklearn.naive_bayes import BernoulliNB"
   ]
  },
  {
   "cell_type": "code",
   "execution_count": 49,
   "id": "78485858",
   "metadata": {},
   "outputs": [],
   "source": [
    "bnb = BernoulliNB()"
   ]
  },
  {
   "cell_type": "code",
   "execution_count": 50,
   "id": "036946a3",
   "metadata": {},
   "outputs": [
    {
     "data": {
      "text/html": [
       "<style>#sk-container-id-2 {color: black;}#sk-container-id-2 pre{padding: 0;}#sk-container-id-2 div.sk-toggleable {background-color: white;}#sk-container-id-2 label.sk-toggleable__label {cursor: pointer;display: block;width: 100%;margin-bottom: 0;padding: 0.3em;box-sizing: border-box;text-align: center;}#sk-container-id-2 label.sk-toggleable__label-arrow:before {content: \"▸\";float: left;margin-right: 0.25em;color: #696969;}#sk-container-id-2 label.sk-toggleable__label-arrow:hover:before {color: black;}#sk-container-id-2 div.sk-estimator:hover label.sk-toggleable__label-arrow:before {color: black;}#sk-container-id-2 div.sk-toggleable__content {max-height: 0;max-width: 0;overflow: hidden;text-align: left;background-color: #f0f8ff;}#sk-container-id-2 div.sk-toggleable__content pre {margin: 0.2em;color: black;border-radius: 0.25em;background-color: #f0f8ff;}#sk-container-id-2 input.sk-toggleable__control:checked~div.sk-toggleable__content {max-height: 200px;max-width: 100%;overflow: auto;}#sk-container-id-2 input.sk-toggleable__control:checked~label.sk-toggleable__label-arrow:before {content: \"▾\";}#sk-container-id-2 div.sk-estimator input.sk-toggleable__control:checked~label.sk-toggleable__label {background-color: #d4ebff;}#sk-container-id-2 div.sk-label input.sk-toggleable__control:checked~label.sk-toggleable__label {background-color: #d4ebff;}#sk-container-id-2 input.sk-hidden--visually {border: 0;clip: rect(1px 1px 1px 1px);clip: rect(1px, 1px, 1px, 1px);height: 1px;margin: -1px;overflow: hidden;padding: 0;position: absolute;width: 1px;}#sk-container-id-2 div.sk-estimator {font-family: monospace;background-color: #f0f8ff;border: 1px dotted black;border-radius: 0.25em;box-sizing: border-box;margin-bottom: 0.5em;}#sk-container-id-2 div.sk-estimator:hover {background-color: #d4ebff;}#sk-container-id-2 div.sk-parallel-item::after {content: \"\";width: 100%;border-bottom: 1px solid gray;flex-grow: 1;}#sk-container-id-2 div.sk-label:hover label.sk-toggleable__label {background-color: #d4ebff;}#sk-container-id-2 div.sk-serial::before {content: \"\";position: absolute;border-left: 1px solid gray;box-sizing: border-box;top: 0;bottom: 0;left: 50%;z-index: 0;}#sk-container-id-2 div.sk-serial {display: flex;flex-direction: column;align-items: center;background-color: white;padding-right: 0.2em;padding-left: 0.2em;position: relative;}#sk-container-id-2 div.sk-item {position: relative;z-index: 1;}#sk-container-id-2 div.sk-parallel {display: flex;align-items: stretch;justify-content: center;background-color: white;position: relative;}#sk-container-id-2 div.sk-item::before, #sk-container-id-2 div.sk-parallel-item::before {content: \"\";position: absolute;border-left: 1px solid gray;box-sizing: border-box;top: 0;bottom: 0;left: 50%;z-index: -1;}#sk-container-id-2 div.sk-parallel-item {display: flex;flex-direction: column;z-index: 1;position: relative;background-color: white;}#sk-container-id-2 div.sk-parallel-item:first-child::after {align-self: flex-end;width: 50%;}#sk-container-id-2 div.sk-parallel-item:last-child::after {align-self: flex-start;width: 50%;}#sk-container-id-2 div.sk-parallel-item:only-child::after {width: 0;}#sk-container-id-2 div.sk-dashed-wrapped {border: 1px dashed gray;margin: 0 0.4em 0.5em 0.4em;box-sizing: border-box;padding-bottom: 0.4em;background-color: white;}#sk-container-id-2 div.sk-label label {font-family: monospace;font-weight: bold;display: inline-block;line-height: 1.2em;}#sk-container-id-2 div.sk-label-container {text-align: center;}#sk-container-id-2 div.sk-container {/* jupyter's `normalize.less` sets `[hidden] { display: none; }` but bootstrap.min.css set `[hidden] { display: none !important; }` so we also need the `!important` here to be able to override the default hidden behavior on the sphinx rendered scikit-learn.org. See: https://github.com/scikit-learn/scikit-learn/issues/21755 */display: inline-block !important;position: relative;}#sk-container-id-2 div.sk-text-repr-fallback {display: none;}</style><div id=\"sk-container-id-2\" class=\"sk-top-container\"><div class=\"sk-text-repr-fallback\"><pre>BernoulliNB()</pre><b>In a Jupyter environment, please rerun this cell to show the HTML representation or trust the notebook. <br />On GitHub, the HTML representation is unable to render, please try loading this page with nbviewer.org.</b></div><div class=\"sk-container\" hidden><div class=\"sk-item\"><div class=\"sk-estimator sk-toggleable\"><input class=\"sk-toggleable__control sk-hidden--visually\" id=\"sk-estimator-id-2\" type=\"checkbox\" checked><label for=\"sk-estimator-id-2\" class=\"sk-toggleable__label sk-toggleable__label-arrow\">BernoulliNB</label><div class=\"sk-toggleable__content\"><pre>BernoulliNB()</pre></div></div></div></div></div>"
      ],
      "text/plain": [
       "BernoulliNB()"
      ]
     },
     "execution_count": 50,
     "metadata": {},
     "output_type": "execute_result"
    }
   ],
   "source": [
    "bnb.fit(X_train,y_train)"
   ]
  },
  {
   "cell_type": "code",
   "execution_count": 51,
   "id": "823bc9c5",
   "metadata": {},
   "outputs": [],
   "source": [
    "y_pred = bnb.predict(X_test)"
   ]
  },
  {
   "cell_type": "code",
   "execution_count": 52,
   "id": "e38f65ad",
   "metadata": {},
   "outputs": [
    {
     "name": "stdout",
     "output_type": "stream",
     "text": [
      "Accuracy:  0.918918918918919\n",
      "----------------------------------------------------------------------------\n",
      "              precision    recall  f1-score   support\n",
      "\n",
      "           0       0.92      0.98      0.95        56\n",
      "           1       0.93      0.72      0.81        18\n",
      "\n",
      "    accuracy                           0.92        74\n",
      "   macro avg       0.92      0.85      0.88        74\n",
      "weighted avg       0.92      0.92      0.92        74\n",
      "\n",
      "----------------------------------------------------------------------------\n"
     ]
    },
    {
     "data": {
      "image/png": "[encoded data removed]",
      "text/plain": [
       "<Figure size 640x480 with 2 Axes>"
      ]
     },
     "metadata": {},
     "output_type": "display_data"
    }
   ],
   "source": [
    "score = accuracy_score(y_test, y_pred)\n",
    "print(\"Accuracy: \",score)\n",
    "print(\"----------------------------------------------------------------------------\")\n",
    "print(classification_report(y_test,y_pred))\n",
    "print(\"----------------------------------------------------------------------------\")\n",
    "cm = confusion_matrix(y_test,y_pred, labels=bnb.classes_)\n",
    "disp = ConfusionMatrixDisplay(confusion_matrix=cm, display_labels=bnb.classes_)\n",
    "disp.plot(values_format='')\n",
    "plt.show()"
   ]
  },
  {
   "cell_type": "code",
   "execution_count": null,
   "id": "3f2d1355",
   "metadata": {},
   "outputs": [],
   "source": []
  }
 ],
 "metadata": {
  "kernelspec": {
   "display_name": "Python 3 (ipykernel)",
   "language": "python",
   "name": "python3"
  },
  "language_info": {
   "codemirror_mode": {
    "name": "ipython",
    "version": 3
   },
   "file_extension": ".py",
   "mimetype": "text/x-python",
   "name": "python",
   "nbconvert_exporter": "python",
   "pygments_lexer": "ipython3",
   "version": "3.10.9"
  }
 },
 "nbformat": 4,
 "nbformat_minor": 5
}
